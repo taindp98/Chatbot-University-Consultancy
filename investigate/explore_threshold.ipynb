{
 "cells": [
  {
   "cell_type": "code",
   "execution_count": 16,
   "id": "e0d28c61",
   "metadata": {},
   "outputs": [],
   "source": [
    "import requests\n",
    "import pandas as pd\n",
    "# from ..utils import clean_mess\n",
    "import sys\n",
    "from tqdm import tqdm\n",
    "from sklearn.metrics import confusion_matrix,classification_report"
   ]
  },
  {
   "cell_type": "code",
   "execution_count": 2,
   "id": "5d284de6",
   "metadata": {},
   "outputs": [],
   "source": [
    "sys.path.append('/Users/taindp/Personal/chatbot_system')"
   ]
  },
  {
   "cell_type": "code",
   "execution_count": 3,
   "id": "59ecbe40",
   "metadata": {},
   "outputs": [],
   "source": [
    "from utils import clean_mess"
   ]
  },
  {
   "cell_type": "code",
   "execution_count": 6,
   "id": "3110fd47",
   "metadata": {},
   "outputs": [],
   "source": [
    "def predict_lstm(mess):\n",
    "    url = 'https://api-intent.herokuapp.com/predict'\n",
    "    pred = requests.post(url,json={'message':mess})\n",
    "    dict_pred = pred.json()\n",
    "    return dict_pred\n",
    "#     return dict_pred['intent'],dict_pred['probability'],dict_pred['message']"
   ]
  },
  {
   "cell_type": "code",
   "execution_count": 11,
   "id": "bf3a1d69",
   "metadata": {},
   "outputs": [],
   "source": [
    "df_ = pd.read_csv('../data/crawl_testset.csv')\n",
    "df_['content'] = [clean_mess(item) for item in list(df_['content'])]\n",
    "idx2label = ['type_edu','case','career']\n",
    "df_['target'] = [idx2label[item] for item in list(df_['target'])]"
   ]
  },
  {
   "cell_type": "code",
   "execution_count": 12,
   "id": "4b5ed13f",
   "metadata": {},
   "outputs": [
    {
     "name": "stderr",
     "output_type": "stream",
     "text": [
      "100%|██████████| 45/45 [00:59<00:00,  1.32s/it]\n"
     ]
    }
   ],
   "source": [
    "class_pred = []\n",
    "score_pred = []\n",
    "for item in tqdm(list(df_['content']),total=len(df_)):\n",
    "    tmp_pred = predict_lstm(item)\n",
    "    class_pred.append(tmp_pred['intent'])\n",
    "    score_pred.append(tmp_pred['probability'])\n",
    "    \n",
    "df_['pred'] = class_pred\n",
    "df_['score'] = score_pred"
   ]
  },
  {
   "cell_type": "code",
   "execution_count": 22,
   "id": "96eec8cc",
   "metadata": {},
   "outputs": [],
   "source": [
    "condition = (df_['target'] == df_['pred'])\n",
    "df_condition = df_[condition]"
   ]
  },
  {
   "cell_type": "code",
   "execution_count": 33,
   "id": "974fb51e",
   "metadata": {},
   "outputs": [],
   "source": [
    "import seaborn as sns\n",
    "from matplotlib.pyplot import bar"
   ]
  },
  {
   "cell_type": "code",
   "execution_count": 40,
   "id": "e0045100",
   "metadata": {},
   "outputs": [],
   "source": [
    "tmp_df = df_condition[df_condition['target']=='career']['score']"
   ]
  },
  {
   "cell_type": "code",
   "execution_count": 41,
   "id": "681a3227",
   "metadata": {},
   "outputs": [
    {
     "data": {
      "text/plain": [
       "<BarContainer object of 27 artists>"
      ]
     },
     "execution_count": 41,
     "metadata": {},
     "output_type": "execute_result"
    },
    {
     "data": {
      "image/png": "[encoded data removed]",
      "text/plain": [
       "<Figure size 432x288 with 1 Axes>"
      ]
     },
     "metadata": {
      "needs_background": "light"
     },
     "output_type": "display_data"
    }
   ],
   "source": [
    "bar(list(range(len(tmp_df))),list(tmp_df))"
   ]
  },
  {
   "cell_type": "code",
   "execution_count": 19,
   "id": "6621ae11",
   "metadata": {},
   "outputs": [],
   "source": [
    "# print(classification_report(df_['target'],df_['pred']))"
   ]
  }
 ],
 "metadata": {
  "kernelspec": {
   "display_name": "thesis",
   "language": "python",
   "name": "thesis"
  },
  "language_info": {
   "codemirror_mode": {
    "name": "ipython",
    "version": 3
   },
   "file_extension": ".py",
   "mimetype": "text/x-python",
   "name": "python",
   "nbconvert_exporter": "python",
   "pygments_lexer": "ipython3",
   "version": "3.6.13"
  }
 },
 "nbformat": 4,
 "nbformat_minor": 5
}
